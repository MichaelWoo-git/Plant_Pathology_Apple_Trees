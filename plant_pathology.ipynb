{
  "nbformat": 4,
  "nbformat_minor": 0,
  "metadata": {
    "colab": {
      "name": "plant_pathology.ipynb",
      "provenance": [],
      "collapsed_sections": [],
      "machine_shape": "hm",
      "mount_file_id": "1hJDztkWeNIHCq_KStAfj2WAyKXvZfKO5",
      "authorship_tag": "ABX9TyMXwrf/BHXvMRxFIUugXn2l",
      "include_colab_link": true
    },
    "kernelspec": {
      "name": "python3",
      "display_name": "Python 3"
    },
    "language_info": {
      "name": "python"
    },
    "accelerator": "TPU"
  },
  "cells": [
    {
      "cell_type": "markdown",
      "metadata": {
        "id": "view-in-github",
        "colab_type": "text"
      },
      "source": [
        "<a href=\"https://colab.research.google.com/github/MichaelWoo-git/Plant_Pathology_Apple_Trees/blob/main/plant_pathology.ipynb\" target=\"_parent\"><img src=\"https://colab.research.google.com/assets/colab-badge.svg\" alt=\"Open In Colab\"/></a>"
      ]
    },
    {
      "cell_type": "markdown",
      "metadata": {
        "id": "BmEWWk4C1Tvx"
      },
      "source": [
        "Import"
      ]
    },
    {
      "cell_type": "code",
      "metadata": {
        "id": "1YFchgqx1XBe"
      },
      "source": [
        "import numpy as np\n",
        "import pandas as pd"
      ],
      "execution_count": 51,
      "outputs": []
    },
    {
      "cell_type": "markdown",
      "metadata": {
        "id": "rhL3Nhdv3QlY"
      },
      "source": [
        "Mount Google Drive data files"
      ]
    },
    {
      "cell_type": "code",
      "metadata": {
        "id": "k87NWBvL3XiW"
      },
      "source": [
        "# #Just do a manual mounting using the button\n",
        "# from google.colab import drive\n",
        "# drive.mount('/gdrive')\n",
        "# #This is if you want to just have file explorer to focus on the single folder\n",
        "# # !ln -s \"/gdrive/My Drive/data_files_kaggle\" \"/content/data\""
      ],
      "execution_count": 52,
      "outputs": []
    },
    {
      "cell_type": "markdown",
      "metadata": {
        "id": "56vGAVeD3gxu"
      },
      "source": [
        "Read in data"
      ]
    },
    {
      "cell_type": "code",
      "metadata": {
        "id": "Okf5yfAj6t-P"
      },
      "source": [
        ""
      ],
      "execution_count": 52,
      "outputs": []
    },
    {
      "cell_type": "code",
      "metadata": {
        "id": "DjFD6pvX4dSD"
      },
      "source": [
        "train_data = pd.read_csv(\"drive/MyDrive/data_files_kaggle/plant_pathology/train.csv\")"
      ],
      "execution_count": 53,
      "outputs": []
    },
    {
      "cell_type": "code",
      "metadata": {
        "colab": {
          "base_uri": "https://localhost:8080/",
          "height": 204
        },
        "id": "xyPKi-7P4xO9",
        "outputId": "4157ae05-bdd9-420b-cb28-58ba29776927"
      },
      "source": [
        "train_data.head()"
      ],
      "execution_count": 54,
      "outputs": [
        {
          "output_type": "execute_result",
          "data": {
            "text/html": [
              "<div>\n",
              "<style scoped>\n",
              "    .dataframe tbody tr th:only-of-type {\n",
              "        vertical-align: middle;\n",
              "    }\n",
              "\n",
              "    .dataframe tbody tr th {\n",
              "        vertical-align: top;\n",
              "    }\n",
              "\n",
              "    .dataframe thead th {\n",
              "        text-align: right;\n",
              "    }\n",
              "</style>\n",
              "<table border=\"1\" class=\"dataframe\">\n",
              "  <thead>\n",
              "    <tr style=\"text-align: right;\">\n",
              "      <th></th>\n",
              "      <th>image</th>\n",
              "      <th>labels</th>\n",
              "    </tr>\n",
              "  </thead>\n",
              "  <tbody>\n",
              "    <tr>\n",
              "      <th>0</th>\n",
              "      <td>800113bb65efe69e.jpg</td>\n",
              "      <td>healthy</td>\n",
              "    </tr>\n",
              "    <tr>\n",
              "      <th>1</th>\n",
              "      <td>8002cb321f8bfcdf.jpg</td>\n",
              "      <td>scab frog_eye_leaf_spot complex</td>\n",
              "    </tr>\n",
              "    <tr>\n",
              "      <th>2</th>\n",
              "      <td>80070f7fb5e2ccaa.jpg</td>\n",
              "      <td>scab</td>\n",
              "    </tr>\n",
              "    <tr>\n",
              "      <th>3</th>\n",
              "      <td>80077517781fb94f.jpg</td>\n",
              "      <td>scab</td>\n",
              "    </tr>\n",
              "    <tr>\n",
              "      <th>4</th>\n",
              "      <td>800cbf0ff87721f8.jpg</td>\n",
              "      <td>complex</td>\n",
              "    </tr>\n",
              "  </tbody>\n",
              "</table>\n",
              "</div>"
            ],
            "text/plain": [
              "                  image                           labels\n",
              "0  800113bb65efe69e.jpg                          healthy\n",
              "1  8002cb321f8bfcdf.jpg  scab frog_eye_leaf_spot complex\n",
              "2  80070f7fb5e2ccaa.jpg                             scab\n",
              "3  80077517781fb94f.jpg                             scab\n",
              "4  800cbf0ff87721f8.jpg                          complex"
            ]
          },
          "metadata": {
            "tags": []
          },
          "execution_count": 54
        }
      ]
    },
    {
      "cell_type": "markdown",
      "metadata": {
        "id": "glgHOM0u4yGA"
      },
      "source": [
        "We are going to have to make directorys into the labels that are given so that when we use keras imagedatagenerator it will be a lot easier!"
      ]
    },
    {
      "cell_type": "code",
      "metadata": {
        "id": "HnKeMuag5DUs"
      },
      "source": [
        "# import os\n",
        "# from shutil import copyfile\n",
        "# for file in os.listdir(\"drive/MyDrive/data_files_kaggle/plant_pathology/train_images\"):\n",
        "#   #print(file)\n",
        "#   temp = train_data[train_data[\"image\"] == file]\n",
        "#   label = np.array(temp[\"labels\"])[0]\n",
        "#   print(\"drive/MyDrive/data_files_kaggle/plant_pathology/train_data/\"+label)\n",
        "#   if not os.path.exists(\"drive/MyDrive/data_files_kaggle/plant_pathology/train_data/\"+label):\n",
        "#     os.makedirs(\"drive/MyDrive/data_files_kaggle/plant_pathology/train_data/\"+label)\n",
        "#   if not os.path.exists(\"drive/MyDrive/data_files_kaggle/plant_pathology/train_data/\"+label + \"/\"+file):\n",
        "#     copyfile(\"drive/MyDrive/data_files_kaggle/plant_pathology/train_images/\"+file,\"drive/MyDrive/data_files_kaggle/plant_pathology/train_data/\"+label + \"/\"+file)"
      ],
      "execution_count": 55,
      "outputs": []
    },
    {
      "cell_type": "markdown",
      "metadata": {
        "id": "7NX1MWL9UCHl"
      },
      "source": [
        "We are going to generate data from these images from the train_data directory"
      ]
    },
    {
      "cell_type": "code",
      "metadata": {
        "colab": {
          "base_uri": "https://localhost:8080/"
        },
        "id": "pGpNN3anosXi",
        "outputId": "14cf5986-f7cb-4de1-b243-2c44a2f51556"
      },
      "source": [
        "from keras_preprocessing.image import ImageDataGenerator\n",
        "train_path = \"drive/MyDrive/data_files_kaggle/plant_pathology/train_data\"\n",
        "train_datagen = ImageDataGenerator().flow_from_directory(train_path,batch_size=100)"
      ],
      "execution_count": 56,
      "outputs": [
        {
          "output_type": "stream",
          "text": [
            "Found 18632 images belonging to 12 classes.\n"
          ],
          "name": "stdout"
        }
      ]
    },
    {
      "cell_type": "markdown",
      "metadata": {
        "id": "jHW-tTiGpWyz"
      },
      "source": [
        "train data and labels"
      ]
    },
    {
      "cell_type": "code",
      "metadata": {
        "id": "YHTMglihpCkn"
      },
      "source": [
        "x,y = next(train_datagen)\n",
        "#formatting output\n",
        "y = np.array(y)\n",
        "y = np.array([np.argmax(p) for p in y])\n",
        "#formatting input\n",
        "x = np.array(x)\n",
        "#we have to reshape the data into 2 dimmensions so the classifers can read in the data\n",
        "x = x.reshape((-1,32*32*32*3*2))"
      ],
      "execution_count": 57,
      "outputs": []
    },
    {
      "cell_type": "markdown",
      "metadata": {
        "id": "Q1tbZWRHrEYc"
      },
      "source": [
        "Generate the model (Random Forest)"
      ]
    },
    {
      "cell_type": "code",
      "metadata": {
        "id": "3VUun1eBqeNR"
      },
      "source": [
        "from sklearn.ensemble import RandomForestClassifier\n",
        "from sklearn.model_selection import train_test_split\n",
        "x_train, x_test, y_train, y_test = train_test_split(x,y,test_size=0.2)\n",
        "clf = RandomForestClassifier(max_depth=2, random_state=0)\n",
        "clf.fit(x_train, y_train)\n",
        "y_pred = clf.predict(x_test)\n",
        "\n"
      ],
      "execution_count": 58,
      "outputs": []
    },
    {
      "cell_type": "code",
      "metadata": {
        "colab": {
          "base_uri": "https://localhost:8080/"
        },
        "id": "GPaqVpsxCXUD",
        "outputId": "27a9988d-85a2-461f-fa2d-4efaa6afcc80"
      },
      "source": [
        "print(y_pred)"
      ],
      "execution_count": 59,
      "outputs": [
        {
          "output_type": "stream",
          "text": [
            "[1 3 1 1 3 9 3 1 3 1 1 3 3 1 9 3 1 3 3 3]\n"
          ],
          "name": "stdout"
        }
      ]
    },
    {
      "cell_type": "code",
      "metadata": {
        "colab": {
          "base_uri": "https://localhost:8080/"
        },
        "id": "poNhMxIRCZ8s",
        "outputId": "bdec5f83-7879-42ff-95c6-63adc6b407e6"
      },
      "source": [
        "print(y_test)"
      ],
      "execution_count": 60,
      "outputs": [
        {
          "output_type": "stream",
          "text": [
            "[ 1  1  3  5  1  4  9  1  4  3  9  9 10  3  6  1  1  9  9  9]\n"
          ],
          "name": "stdout"
        }
      ]
    },
    {
      "cell_type": "markdown",
      "metadata": {
        "id": "kzC5LeZKsP8S"
      },
      "source": [
        "Confusion Matrix"
      ]
    },
    {
      "cell_type": "code",
      "metadata": {
        "colab": {
          "base_uri": "https://localhost:8080/"
        },
        "id": "rWyzgxM1sPhE",
        "outputId": "abfc9dc5-09d7-482d-ed78-175491a91777"
      },
      "source": [
        "from sklearn.metrics import confusion_matrix\n",
        "print(confusion_matrix(y_test,y_pred))"
      ],
      "execution_count": 61,
      "outputs": [
        {
          "output_type": "stream",
          "text": [
            "[[3 3 0 0 0 0 0]\n",
            " [3 0 0 0 0 0 0]\n",
            " [0 1 0 0 0 1 0]\n",
            " [1 0 0 0 0 0 0]\n",
            " [0 0 0 0 0 1 0]\n",
            " [1 5 0 0 0 0 0]\n",
            " [0 1 0 0 0 0 0]]\n"
          ],
          "name": "stdout"
        }
      ]
    },
    {
      "cell_type": "code",
      "metadata": {
        "colab": {
          "base_uri": "https://localhost:8080/"
        },
        "id": "nAq8PFHPCFoc",
        "outputId": "98219d4e-09ae-4e4a-f5ac-9a33c580db63"
      },
      "source": [
        "from sklearn.metrics import classification_report\n",
        "print(classification_report(y_test,y_pred))"
      ],
      "execution_count": 62,
      "outputs": [
        {
          "output_type": "stream",
          "text": [
            "              precision    recall  f1-score   support\n",
            "\n",
            "           1       0.38      0.50      0.43         6\n",
            "           3       0.00      0.00      0.00         3\n",
            "           4       0.00      0.00      0.00         2\n",
            "           5       0.00      0.00      0.00         1\n",
            "           6       0.00      0.00      0.00         1\n",
            "           9       0.00      0.00      0.00         6\n",
            "          10       0.00      0.00      0.00         1\n",
            "\n",
            "    accuracy                           0.15        20\n",
            "   macro avg       0.05      0.07      0.06        20\n",
            "weighted avg       0.11      0.15      0.13        20\n",
            "\n"
          ],
          "name": "stdout"
        },
        {
          "output_type": "stream",
          "text": [
            "/usr/local/lib/python3.7/dist-packages/sklearn/metrics/_classification.py:1272: UndefinedMetricWarning: Precision and F-score are ill-defined and being set to 0.0 in labels with no predicted samples. Use `zero_division` parameter to control this behavior.\n",
            "  _warn_prf(average, modifier, msg_start, len(result))\n"
          ],
          "name": "stderr"
        }
      ]
    },
    {
      "cell_type": "code",
      "metadata": {
        "id": "KgxX21BKCNWb"
      },
      "source": [
        ""
      ],
      "execution_count": 62,
      "outputs": []
    }
  ]
}