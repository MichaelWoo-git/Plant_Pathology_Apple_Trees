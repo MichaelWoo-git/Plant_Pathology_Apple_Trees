{
  "nbformat": 4,
  "nbformat_minor": 0,
  "metadata": {
    "colab": {
      "name": "plant_pathology.ipynb",
      "provenance": [],
      "collapsed_sections": [],
      "machine_shape": "hm",
      "mount_file_id": "1hJDztkWeNIHCq_KStAfj2WAyKXvZfKO5",
      "authorship_tag": "ABX9TyOmvJw3/aTE8dWJDKPhvBPn",
      "include_colab_link": true
    },
    "kernelspec": {
      "name": "python3",
      "display_name": "Python 3"
    },
    "language_info": {
      "name": "python"
    },
    "accelerator": "TPU"
  },
  "cells": [
    {
      "cell_type": "markdown",
      "metadata": {
        "id": "view-in-github",
        "colab_type": "text"
      },
      "source": [
        "<a href=\"https://colab.research.google.com/github/MichaelWoo-git/Plant_Pathology_Apple_Trees/blob/main/plant_pathology.ipynb\" target=\"_parent\"><img src=\"https://colab.research.google.com/assets/colab-badge.svg\" alt=\"Open In Colab\"/></a>"
      ]
    },
    {
      "cell_type": "markdown",
      "metadata": {
        "id": "BmEWWk4C1Tvx"
      },
      "source": [
        "Import"
      ]
    },
    {
      "cell_type": "code",
      "metadata": {
        "id": "1YFchgqx1XBe"
      },
      "source": [
        "import numpy as np\n",
        "import pandas as pd"
      ],
      "execution_count": 1,
      "outputs": []
    },
    {
      "cell_type": "markdown",
      "metadata": {
        "id": "rhL3Nhdv3QlY"
      },
      "source": [
        "Mount Google Drive data files"
      ]
    },
    {
      "cell_type": "code",
      "metadata": {
        "colab": {
          "base_uri": "https://localhost:8080/"
        },
        "id": "k87NWBvL3XiW",
        "outputId": "4846d721-9e5f-44d5-8fcd-5af5be911a3f"
      },
      "source": [
        "# #Just do a manual mounting using the button\n",
        "# from google.colab import drive\n",
        "# drive.mount('/gdrive')\n",
        "# #This is if you want to just have file explorer to focus on the single folder\n",
        "# # !ln -s \"/gdrive/My Drive/data_files_kaggle\" \"/content/data\""
      ],
      "execution_count": null,
      "outputs": [
        {
          "output_type": "stream",
          "text": [
            "Drive already mounted at /gdrive; to attempt to forcibly remount, call drive.mount(\"/gdrive\", force_remount=True).\n"
          ],
          "name": "stdout"
        }
      ]
    },
    {
      "cell_type": "markdown",
      "metadata": {
        "id": "56vGAVeD3gxu"
      },
      "source": [
        "Read in data"
      ]
    },
    {
      "cell_type": "code",
      "metadata": {
        "id": "Okf5yfAj6t-P"
      },
      "source": [
        ""
      ],
      "execution_count": null,
      "outputs": []
    },
    {
      "cell_type": "code",
      "metadata": {
        "id": "DjFD6pvX4dSD"
      },
      "source": [
        "train_data = pd.read_csv(\"drive/MyDrive/data_files_kaggle/plant_pathology/train.csv\")"
      ],
      "execution_count": 2,
      "outputs": []
    },
    {
      "cell_type": "code",
      "metadata": {
        "colab": {
          "base_uri": "https://localhost:8080/",
          "height": 204
        },
        "id": "xyPKi-7P4xO9",
        "outputId": "cc0a0f96-94d0-4b85-cbd6-4c4f71894763"
      },
      "source": [
        "train_data.head()"
      ],
      "execution_count": 4,
      "outputs": [
        {
          "output_type": "execute_result",
          "data": {
            "text/html": [
              "<div>\n",
              "<style scoped>\n",
              "    .dataframe tbody tr th:only-of-type {\n",
              "        vertical-align: middle;\n",
              "    }\n",
              "\n",
              "    .dataframe tbody tr th {\n",
              "        vertical-align: top;\n",
              "    }\n",
              "\n",
              "    .dataframe thead th {\n",
              "        text-align: right;\n",
              "    }\n",
              "</style>\n",
              "<table border=\"1\" class=\"dataframe\">\n",
              "  <thead>\n",
              "    <tr style=\"text-align: right;\">\n",
              "      <th></th>\n",
              "      <th>image</th>\n",
              "      <th>labels</th>\n",
              "    </tr>\n",
              "  </thead>\n",
              "  <tbody>\n",
              "    <tr>\n",
              "      <th>0</th>\n",
              "      <td>800113bb65efe69e.jpg</td>\n",
              "      <td>healthy</td>\n",
              "    </tr>\n",
              "    <tr>\n",
              "      <th>1</th>\n",
              "      <td>8002cb321f8bfcdf.jpg</td>\n",
              "      <td>scab frog_eye_leaf_spot complex</td>\n",
              "    </tr>\n",
              "    <tr>\n",
              "      <th>2</th>\n",
              "      <td>80070f7fb5e2ccaa.jpg</td>\n",
              "      <td>scab</td>\n",
              "    </tr>\n",
              "    <tr>\n",
              "      <th>3</th>\n",
              "      <td>80077517781fb94f.jpg</td>\n",
              "      <td>scab</td>\n",
              "    </tr>\n",
              "    <tr>\n",
              "      <th>4</th>\n",
              "      <td>800cbf0ff87721f8.jpg</td>\n",
              "      <td>complex</td>\n",
              "    </tr>\n",
              "  </tbody>\n",
              "</table>\n",
              "</div>"
            ],
            "text/plain": [
              "                  image                           labels\n",
              "0  800113bb65efe69e.jpg                          healthy\n",
              "1  8002cb321f8bfcdf.jpg  scab frog_eye_leaf_spot complex\n",
              "2  80070f7fb5e2ccaa.jpg                             scab\n",
              "3  80077517781fb94f.jpg                             scab\n",
              "4  800cbf0ff87721f8.jpg                          complex"
            ]
          },
          "metadata": {
            "tags": []
          },
          "execution_count": 4
        }
      ]
    },
    {
      "cell_type": "markdown",
      "metadata": {
        "id": "glgHOM0u4yGA"
      },
      "source": [
        "We are going to have to make directorys into the labels that are given so that when we use keras imagedatagenerator it will be a lot easier!"
      ]
    },
    {
      "cell_type": "code",
      "metadata": {
        "id": "HnKeMuag5DUs"
      },
      "source": [
        "# import os\n",
        "# from shutil import copyfile\n",
        "# for file in os.listdir(\"drive/MyDrive/data_files_kaggle/plant_pathology/train_images\"):\n",
        "#   #print(file)\n",
        "#   temp = train_data[train_data[\"image\"] == file]\n",
        "#   label = np.array(temp[\"labels\"])[0]\n",
        "#   print(\"drive/MyDrive/data_files_kaggle/plant_pathology/train_data/\"+label)\n",
        "#   if not os.path.exists(\"drive/MyDrive/data_files_kaggle/plant_pathology/train_data/\"+label):\n",
        "#     os.makedirs(\"drive/MyDrive/data_files_kaggle/plant_pathology/train_data/\"+label)\n",
        "#   if not os.path.exists(\"drive/MyDrive/data_files_kaggle/plant_pathology/train_data/\"+label + \"/\"+file):\n",
        "#     copyfile(\"drive/MyDrive/data_files_kaggle/plant_pathology/train_images/\"+file,\"drive/MyDrive/data_files_kaggle/plant_pathology/train_data/\"+label + \"/\"+file)"
      ],
      "execution_count": null,
      "outputs": []
    },
    {
      "cell_type": "markdown",
      "metadata": {
        "id": "7NX1MWL9UCHl"
      },
      "source": [
        "We are going to generate data from these images from the train_data directory"
      ]
    },
    {
      "cell_type": "code",
      "metadata": {
        "colab": {
          "base_uri": "https://localhost:8080/"
        },
        "id": "pGpNN3anosXi",
        "outputId": "bed2c0e0-7261-404b-92da-80cb9e9b5d05"
      },
      "source": [
        "from keras_preprocessing.image import ImageDataGenerator\n",
        "train_path = \"drive/MyDrive/data_files_kaggle/plant_pathology/train_data\"\n",
        "train_datagen = ImageDataGenerator().flow_from_directory(train_path,batch_size=32)"
      ],
      "execution_count": 9,
      "outputs": [
        {
          "output_type": "stream",
          "text": [
            "Found 18632 images belonging to 12 classes.\n"
          ],
          "name": "stdout"
        }
      ]
    },
    {
      "cell_type": "markdown",
      "metadata": {
        "id": "jHW-tTiGpWyz"
      },
      "source": [
        "train data and labels"
      ]
    },
    {
      "cell_type": "code",
      "metadata": {
        "id": "YHTMglihpCkn"
      },
      "source": [
        "x,y = next(train_datagen)\n",
        "#formatting output\n",
        "y = np.array(y)\n",
        "y = np.array([np.argmax(p) for p in y])\n",
        "#formatting input\n",
        "x = np.array(x)\n",
        "#we have to reshape the data into 2 dimmensions so the classifers can read in the data\n",
        "x = x.reshape((-1,32*32*32*3*2))"
      ],
      "execution_count": 10,
      "outputs": []
    },
    {
      "cell_type": "markdown",
      "metadata": {
        "id": "Q1tbZWRHrEYc"
      },
      "source": [
        "Generate the model (Random Forest)"
      ]
    },
    {
      "cell_type": "code",
      "metadata": {
        "id": "3VUun1eBqeNR"
      },
      "source": [
        "from sklearn.ensemble import RandomForestClassifier\n",
        "from sklearn.model_selection import train_test_split\n",
        "x_train, x_test, y_train, y_test = train_test_split(x,y,test_size=0.2)\n",
        "clf = RandomForestClassifier(max_depth=2, random_state=0)\n",
        "clf.fit(x_train, y_train)\n",
        "y_pred = clf.predict(x_test)\n",
        "\n"
      ],
      "execution_count": 36,
      "outputs": []
    },
    {
      "cell_type": "markdown",
      "metadata": {
        "id": "kzC5LeZKsP8S"
      },
      "source": [
        "Confusion Matrix"
      ]
    },
    {
      "cell_type": "code",
      "metadata": {
        "id": "rWyzgxM1sPhE"
      },
      "source": [
        "from sklearn.metrics import confusion_matrix\n",
        "print(confusion_matrix(y_test,y_pred))"
      ],
      "execution_count": null,
      "outputs": []
    }
  ]
}